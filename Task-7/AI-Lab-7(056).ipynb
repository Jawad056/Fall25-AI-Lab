{
 "cells": [
  {
   "cell_type": "markdown",
   "id": "1aaee000",
   "metadata": {},
   "source": [
    "**Name: Jawad-Haider**\n",
    "\n",
    "**Roll No.: SU92-BSAIM-F24-056**\n",
    "\n",
    "**Section: BSAI-3A**"
   ]
  },
  {
   "cell_type": "code",
   "execution_count": 17,
   "id": "5a1668db",
   "metadata": {},
   "outputs": [
    {
     "name": "stdout",
     "output_type": "stream",
     "text": [
      "Path found: ['A', 'B', 'D']\n"
     ]
    },
    {
     "data": {
      "text/plain": [
       "['A', 'B', 'D']"
      ]
     },
     "execution_count": 17,
     "metadata": {},
     "output_type": "execute_result"
    }
   ],
   "source": [
    "class Graph:\n",
    "    def __init__(self, edges):\n",
    "        self.edges = edges\n",
    "\n",
    "    def neighbors(self, node):\n",
    "        return self.edges.get(node, [])\n",
    "\n",
    "    def heuristic(self, node):\n",
    "        heuristic_values = {\n",
    "            'A': 1,\n",
    "            'B': 1,\n",
    "            'C': 1,\n",
    "            'D': 1\n",
    "        }\n",
    "        return heuristic_values[node]\n",
    "\n",
    "    def a_star(self, start, goal):\n",
    "        open_set = {start}\n",
    "        closed_set = set()\n",
    "\n",
    "        g_cost = {start: 0}\n",
    "        parents = {start: None}\n",
    "\n",
    "        while open_set:\n",
    "            current = min(open_set, key=lambda x: g_cost[x] + self.heuristic(x))\n",
    "\n",
    "            if current == goal:\n",
    "                path = []\n",
    "                while current is not None:\n",
    "                    path.append(current)\n",
    "                    current = parents[current]\n",
    "                path.reverse()\n",
    "                print(\"Path found:\", path)\n",
    "                return path\n",
    "\n",
    "            open_set.remove(current)\n",
    "            closed_set.add(current)\n",
    "\n",
    "            for neighbor, weight in self.neighbors(current):\n",
    "                if neighbor in closed_set:\n",
    "                    continue\n",
    "\n",
    "                new_cost = g_cost[current] + weight\n",
    "\n",
    "                if neighbor not in open_set or new_cost < g_cost.get(neighbor, float('inf')):\n",
    "                    g_cost[neighbor] = new_cost\n",
    "                    parents[neighbor] = current\n",
    "                    open_set.add(neighbor)\n",
    "\n",
    "        print(\"Path does not exist!\")\n",
    "        return None\n",
    "\n",
    "\n",
    "# Example usage:\n",
    "graph_data = {\n",
    "    'A': [('B', 2), ('C', 3), ('D', 12)],\n",
    "    'B': [('D', 6)],\n",
    "    'C': [('D', 18)]\n",
    "}\n",
    "\n",
    "graph = Graph(graph_data)\n",
    "graph.a_star('A', 'D')\n",
    "\n"
   ]
  }
 ],
 "metadata": {
  "kernelspec": {
   "display_name": "Python 3",
   "language": "python",
   "name": "python3"
  },
  "language_info": {
   "codemirror_mode": {
    "name": "ipython",
    "version": 3
   },
   "file_extension": ".py",
   "mimetype": "text/x-python",
   "name": "python",
   "nbconvert_exporter": "python",
   "pygments_lexer": "ipython3",
   "version": "3.13.7"
  }
 },
 "nbformat": 4,
 "nbformat_minor": 5
}
