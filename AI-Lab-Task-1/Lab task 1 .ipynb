{
 "cells": [
  {
   "cell_type": "markdown",
   "id": "e85384a6",
   "metadata": {},
   "source": [
    "**Name: Jawad-Haider**\n",
    "\n",
    "**Roll No.: SU92-BSAIM-F24-056**\n",
    "\n",
    "**Section: BSAI 3-A**\n",
    "\n",
    "**Subject: AI-Lab**"
   ]
  },
  {
   "cell_type": "code",
   "execution_count": 1,
   "id": "07386571",
   "metadata": {},
   "outputs": [
    {
     "name": "stdout",
     "output_type": "stream",
     "text": [
      "Dynamic Calculator\n",
      "Result = 30\n"
     ]
    }
   ],
   "source": [
    "print(\"Dynamic Calculator\")\n",
    "expr = input(\"enter value \")\n",
    "try:\n",
    "    result = eval(expr)\n",
    "    print(\"Result =\", result)\n",
    "except:\n",
    "    print(\"Invalid Expression!\")\n"
   ]
  },
  {
   "cell_type": "code",
   "execution_count": 2,
   "id": "19b5f14f",
   "metadata": {},
   "outputs": [
    {
     "name": "stdout",
     "output_type": "stream",
     "text": [
      "Your To-Do List: ['work', 'subject', 'bangladesh']\n"
     ]
    }
   ],
   "source": [
    "todo = []\n",
    "while True:\n",
    "    task = input(\"Enter task (or 'show'/'exit'): \")\n",
    "    if task == \"exit\":\n",
    "        break\n",
    "    elif task == \"show\":\n",
    "        print(\"Your To-Do List:\", todo)\n",
    "    else:\n",
    "        todo.append(task)\n"
   ]
  },
  {
   "cell_type": "code",
   "execution_count": null,
   "id": "05b14e8b",
   "metadata": {},
   "outputs": [],
   "source": []
  }
 ],
 "metadata": {
  "kernelspec": {
   "display_name": "Python 3",
   "language": "python",
   "name": "python3"
  },
  "language_info": {
   "codemirror_mode": {
    "name": "ipython",
    "version": 3
   },
   "file_extension": ".py",
   "mimetype": "text/x-python",
   "name": "python",
   "nbconvert_exporter": "python",
   "pygments_lexer": "ipython3",
   "version": "3.12.6"
  }
 },
 "nbformat": 4,
 "nbformat_minor": 5
}
