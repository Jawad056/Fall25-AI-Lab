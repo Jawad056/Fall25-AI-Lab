{
 "cells": [
  {
   "cell_type": "code",
   "execution_count": 1,
   "id": "9fc1fd07",
   "metadata": {},
   "outputs": [
    {
     "name": "stdout",
     "output_type": "stream",
     "text": [
      "Valid\n"
     ]
    }
   ],
   "source": [
    "def luhn_algorithm(card_number: str):\n",
    "\n",
    "\n",
    "    card_number = card_number.replace(\" \", \"\")\n",
    "    check_digit = int(card_number[-1])\n",
    "    digits = card_number[:-1]\n",
    "\n",
    "    \n",
    "    digits = digits[::-1]\n",
    "\n",
    "    total = 0\n",
    "\n",
    "    for i, d in enumerate(digits):\n",
    "        d = int(d)\n",
    "        if i % 2 == 0:   \n",
    "            d *= 2\n",
    "            if d > 9:\n",
    "                d -= 9\n",
    "        total += d\n",
    "\n",
    "\n",
    "\n",
    "    total += check_digit\n",
    "\n",
    "\n",
    "\n",
    "    return total % 10 == 0\n",
    "\n",
    "\n",
    "\n",
    "card = \"5893804115457289\"\n",
    "\n",
    "print(\"Valid\" if luhn_algorithm(card) else \"Invalid\")"
   ]
  },
  {
   "cell_type": "code",
   "execution_count": 12,
   "id": "202260b1",
   "metadata": {},
   "outputs": [
    {
     "name": "stdout",
     "output_type": "stream",
     "text": [
      "Hello  I am Jawad Haider\n"
     ]
    }
   ],
   "source": [
    "def remove_punctuations(text: str):\n",
    "\n",
    "    punctuations = '''!#$%^&**,'''\n",
    "\n",
    "    return \"\".join(ch for ch in text if ch not in punctuations)\n",
    "\n",
    "sentence = \"Hello!!! , I## am$$ Jawad Haider\"\n",
    "\n",
    "print(remove_punctuations(sentence))"
   ]
  },
  {
   "cell_type": "code",
   "execution_count": 4,
   "id": "189fe7d3",
   "metadata": {},
   "outputs": [
    {
     "name": "stdout",
     "output_type": "stream",
     "text": [
      "amazing Artificial Intelligence is\n"
     ]
    }
   ],
   "source": [
    "def sort_sentence(text: str):\n",
    "\n",
    "    words = text.split()\n",
    "\n",
    "    words.sort(key=str.lower)  \n",
    "\n",
    "    return \" \".join(words)\n",
    "\n",
    "sentence = \"Artificial Intelligence is amazing\"\n",
    "\n",
    "print(sort_sentence(sentence))"
   ]
  }
 ],
 "metadata": {
  "kernelspec": {
   "display_name": "Python 3",
   "language": "python",
   "name": "python3"
  },
  "language_info": {
   "codemirror_mode": {
    "name": "ipython",
    "version": 3
   },
   "file_extension": ".py",
   "mimetype": "text/x-python",
   "name": "python",
   "nbconvert_exporter": "python",
   "pygments_lexer": "ipython3",
   "version": "3.13.7"
  }
 },
 "nbformat": 4,
 "nbformat_minor": 5
}
