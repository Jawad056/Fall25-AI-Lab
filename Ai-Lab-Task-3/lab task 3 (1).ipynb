{
 "cells": [
  {
   "cell_type": "markdown",
   "id": "c193e7df",
   "metadata": {},
   "source": [
    "**Name: Jawad-Haider**\n",
    "\n",
    "**Roll No.: SU92-BSAIM-F24-056**\n",
    "\n",
    "**Section: BSAI 3-A**\n",
    "\n",
    "**Subject: AI-Lab**"
   ]
  },
  {
   "cell_type": "code",
   "execution_count": 2,
   "id": "b9e4ebd6",
   "metadata": {},
   "outputs": [
    {
     "name": "stdout",
     "output_type": "stream",
     "text": [
      "Temp: 18 C  Turning heater ON\n",
      "Temp: 20 C  Keep heater ON\n",
      "Temp: 22 C  Temperature is fine, keep Heater_On\n",
      "Temp: 23 C  Temperature is fine, keep Heater_On\n",
      "Temp: 24 C  Turning heater Off\n",
      "Temp: 22 C  Temperature is fine, keep Heater_Off\n",
      "Temp: 20 C  Turning heater ON\n",
      "Temp: 20 C  (History) Heater_On\n",
      "Temp: 21 C  Temperature is fine, keep Heater_On\n"
     ]
    }
   ],
   "source": [
    "class TemperatureAgent:\n",
    "    def __init__(self, desired_temp):\n",
    "        self.desired_temp = desired_temp    \n",
    "        self.last_action = None             \n",
    "        self.last_temp = None          \n",
    "\n",
    "    def take_action(self, current_temp):\n",
    "\n",
    "        if self.last_temp == current_temp:\n",
    "            return f\"(History) {self.last_action}\"\n",
    "\n",
    "        if current_temp < self.desired_temp - 1:\n",
    "            if self.last_action != \"Heater_On\":\n",
    "                self.last_action = \"Heater_On\"\n",
    "                action = \"Turning heater ON\"\n",
    "            else:\n",
    "                action = \"Keep heater ON\"\n",
    "\n",
    "        elif current_temp > self.desired_temp + 1:\n",
    "            if self.last_action != \"Heater_Off\":\n",
    "                self.last_action = \"Heater_Off\"\n",
    "                action = \"Turning heater Off\"\n",
    "            else:\n",
    "                action = \"Keep heater Off\"\n",
    "\n",
    "        else:\n",
    "            action = f\"Temperature is fine, keep {self.last_action}\"\n",
    "\n",
    "        self.last_temp = current_temp \n",
    "        return action\n",
    "\n",
    "agent = TemperatureAgent(desired_temp=22)\n",
    "temps = [18, 20, 22, 23, 24, 22, 20, 20, 21]  \n",
    "\n",
    "for t in temps:\n",
    "    action = agent.take_action(t)\n",
    "    print(f\"Temp: {t} C  {action}\")\n"
   ]
  }
 ],
 "metadata": {
  "kernelspec": {
   "display_name": "base",
   "language": "python",
   "name": "python3"
  },
  "language_info": {
   "codemirror_mode": {
    "name": "ipython",
    "version": 3
   },
   "file_extension": ".py",
   "mimetype": "text/x-python",
   "name": "python",
   "nbconvert_exporter": "python",
   "pygments_lexer": "ipython3",
   "version": "3.12.4"
  }
 },
 "nbformat": 4,
 "nbformat_minor": 5
}
