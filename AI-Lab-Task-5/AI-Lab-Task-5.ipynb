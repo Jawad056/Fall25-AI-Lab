{
 "cells": [
  {
   "cell_type": "code",
   "execution_count": 2,
   "id": "bf2e243b",
   "metadata": {},
   "outputs": [
    {
     "name": "stdout",
     "output_type": "stream",
     "text": [
      "0\n",
      "2\n",
      "1\n",
      "3\n",
      "4\n"
     ]
    }
   ],
   "source": [
    "def dfs_stack(graph, start):\n",
    "    visited = set()\n",
    "    stack = [start]\n",
    "    while stack:\n",
    "        node = stack.pop()\n",
    "        if node not in visited:\n",
    "            print(node)\n",
    "            visited.add(node)\n",
    "            stack.extend(graph[node] - visited)\n",
    "\n",
    "graph = {\n",
    "    '0': set(['1', '2']),\n",
    "    '1': set(['0', '3', '4']),\n",
    "    '2': set(['0']),\n",
    "    '3': set(['1']),\n",
    "    '4': set(['2', '3'])\n",
    "}\n",
    "\n",
    "dfs_stack(graph, '0')\n"
   ]
  },
  {
   "cell_type": "code",
   "execution_count": 3,
   "id": "f6bf6d96",
   "metadata": {},
   "outputs": [
    {
     "name": "stdout",
     "output_type": "stream",
     "text": [
      "Preorder:\n",
      "1\n",
      "2\n",
      "4\n",
      "5\n",
      "3\n",
      "Inorder:\n",
      "4\n",
      "2\n",
      "5\n",
      "1\n",
      "3\n",
      "Postorder:\n",
      "4\n",
      "5\n",
      "2\n",
      "3\n",
      "1\n"
     ]
    }
   ],
   "source": [
    "class Node:\n",
    "\n",
    "    def __init__(self, key):\n",
    "\n",
    "        self.left = None\n",
    "\n",
    "        self.right = None\n",
    "\n",
    "        self.val = key\n",
    "\n",
    "def preorder(root):\n",
    "\n",
    "    if root:\n",
    "\n",
    "        print(root.val)\n",
    "\n",
    "        preorder(root.left)\n",
    "\n",
    "        preorder(root.right)\n",
    "\n",
    "def inorder(root):\n",
    "\n",
    "    if root:\n",
    "\n",
    "        inorder(root.left)\n",
    "\n",
    "        print(root.val)\n",
    "\n",
    "        inorder(root.right)\n",
    "\n",
    "def postorder(root):\n",
    "\n",
    "    if root:\n",
    "\n",
    "        postorder(root.left)\n",
    "\n",
    "        postorder(root.right)\n",
    "\n",
    "        print(root.val)\n",
    "\n",
    "root = Node(1)\n",
    "\n",
    "root.left = Node(2)\n",
    "\n",
    "root.right = Node(3)\n",
    "\n",
    "root.left.left = Node(4)\n",
    "\n",
    "root.left.right = Node(5)\n",
    "\n",
    "print(\"Preorder:\")\n",
    "\n",
    "preorder(root)\n",
    "\n",
    "print(\"Inorder:\")\n",
    "\n",
    "inorder(root)\n",
    "\n",
    "print(\"Postorder:\")\n",
    "\n",
    "postorder(root)\n"
   ]
  }
 ],
 "metadata": {
  "kernelspec": {
   "display_name": "Python 3",
   "language": "python",
   "name": "python3"
  },
  "language_info": {
   "codemirror_mode": {
    "name": "ipython",
    "version": 3
   },
   "file_extension": ".py",
   "mimetype": "text/x-python",
   "name": "python",
   "nbconvert_exporter": "python",
   "pygments_lexer": "ipython3",
   "version": "3.13.7"
  }
 },
 "nbformat": 4,
 "nbformat_minor": 5
}
