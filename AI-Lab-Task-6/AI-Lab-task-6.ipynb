{
 "cells": [
  {
   "cell_type": "code",
   "execution_count": 2,
   "id": "c5098d41",
   "metadata": {},
   "outputs": [
    {
     "name": "stdout",
     "output_type": "stream",
     "text": [
      "A\n",
      "B\n",
      "C\n",
      "D\n",
      "E\n",
      "F\n",
      "G\n",
      "H\n",
      "I\n",
      "K\n",
      "L\n",
      "M\n"
     ]
    }
   ],
   "source": [
    "graph = {\n",
    " 'A':['B','C'],\n",
    " 'B':['D','E'],\n",
    " 'C':['F'],\n",
    " 'D':['G','H'],\n",
    " 'E':[],\n",
    " 'F':['I','K'],\n",
    " 'G':[],\n",
    " 'H':['L'],\n",
    " 'I':[],\n",
    " 'K':['M'],\n",
    " 'L':[],\n",
    " 'M':[]\n",
    "}\n",
    "\n",
    "def bfs_recursive(graph, frontier, visited):\n",
    "    if not frontier:\n",
    "        return\n",
    "    next_frontier = []\n",
    "    for node in frontier:\n",
    "        if node not in visited:\n",
    "            print(node)\n",
    "            visited.append(node)\n",
    "            next_frontier.extend(graph[node])\n",
    "    bfs_recursive(graph, next_frontier, visited)\n",
    "\n",
    "bfs_recursive(graph, ['A'], [])\n"
   ]
  },
  {
   "cell_type": "code",
   "execution_count": 3,
   "id": "37d3dc82",
   "metadata": {},
   "outputs": [
    {
     "name": "stdout",
     "output_type": "stream",
     "text": [
      "A\n",
      "B\n",
      "C\n",
      "D\n",
      "E\n",
      "F\n"
     ]
    }
   ],
   "source": [
    "from collections import deque\n",
    "\n",
    "class Node:\n",
    "\n",
    "    def __init__(self, value):\n",
    "\n",
    "        self.value = value\n",
    "\n",
    "        self.children = []\n",
    "\n",
    "def bfs(root):\n",
    "\n",
    "    queue = deque([root])\n",
    "\n",
    "    visited = []\n",
    "\n",
    "    while queue:\n",
    "\n",
    "        node = queue.popleft()\n",
    "\n",
    "        if node not in visited:\n",
    "\n",
    "            print(node.value)\n",
    "\n",
    "            visited.append(node)\n",
    "\n",
    "            for child in node.children:\n",
    "\n",
    "                queue.append(child)\n",
    "\n",
    "a = Node('A')\n",
    "\n",
    "b = Node('B')\n",
    "\n",
    "c = Node('C')\n",
    "\n",
    "d = Node('D')\n",
    "\n",
    "e = Node('E')\n",
    "\n",
    "f = Node('F')\n",
    "\n",
    "a.children = [b,c]\n",
    "\n",
    "b.children = [d,e]\n",
    "\n",
    "c.children = [f]\n",
    "\n",
    "bfs(a)"
   ]
  }
 ],
 "metadata": {
  "kernelspec": {
   "display_name": "Python 3",
   "language": "python",
   "name": "python3"
  },
  "language_info": {
   "codemirror_mode": {
    "name": "ipython",
    "version": 3
   },
   "file_extension": ".py",
   "mimetype": "text/x-python",
   "name": "python",
   "nbconvert_exporter": "python",
   "pygments_lexer": "ipython3",
   "version": "3.13.7"
  }
 },
 "nbformat": 4,
 "nbformat_minor": 5
}
